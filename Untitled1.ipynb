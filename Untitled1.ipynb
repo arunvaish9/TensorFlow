{
 "cells": [
  {
   "cell_type": "code",
   "execution_count": 1,
   "metadata": {},
   "outputs": [
    {
     "name": "stdout",
     "output_type": "stream",
     "text": [
      "Downloading MNIST...\n",
      "Succesfully downloaded train-images-idx3-ubyte.gz 9912422 bytes.\n",
      "Extracting mnist/train-images-idx3-ubyte.gz\n",
      "Downloading MNIST...\n",
      "Succesfully downloaded train-labels-idx1-ubyte.gz 28881 bytes.\n",
      "Extracting mnist/train-labels-idx1-ubyte.gz\n",
      "Downloading MNIST...\n",
      "Succesfully downloaded t10k-images-idx3-ubyte.gz 1648877 bytes.\n",
      "Extracting mnist/t10k-images-idx3-ubyte.gz\n",
      "Downloading MNIST...\n",
      "Succesfully downloaded t10k-labels-idx1-ubyte.gz 4542 bytes.\n",
      "Extracting mnist/t10k-labels-idx1-ubyte.gz\n"
     ]
    }
   ],
   "source": [
    "import tflearn.datasets.mnist as mnist\n",
    "\n",
    "\n",
    "X, Y, test_x, test_y = mnist.load_data(one_hot=True)"
   ]
  },
  {
   "cell_type": "code",
   "execution_count": 2,
   "metadata": {},
   "outputs": [
    {
     "name": "stdout",
     "output_type": "stream",
     "text": [
      "Variable   Type       Data/Info\n",
      "-------------------------------\n",
      "X          ndarray    55000x784: 43120000 elems, type `float32`, 172480000 bytes (164 Mb)\n",
      "Y          ndarray    55000x10: 550000 elems, type `float64`, 4400000 bytes (4 Mb)\n",
      "mnist      module     <module 'tflearn.datasets<...>earn/datasets/mnist.pyc'>\n",
      "test_x     ndarray    10000x784: 7840000 elems, type `float32`, 31360000 bytes (29 Mb)\n",
      "test_y     ndarray    10000x10: 100000 elems, type `float64`, 800000 bytes (781 kb)\n"
     ]
    }
   ],
   "source": [
    "whos"
   ]
  },
  {
   "cell_type": "code",
   "execution_count": 3,
   "metadata": {
    "collapsed": true
   },
   "outputs": [],
   "source": [
    "import pandas as pd\n",
    "import numpy as np\n",
    "from sklearn.model_selection import train_test_split\n",
    "\n",
    "#X, Y, test_x, test_y = mnist.load_data(one_hot=True)\n",
    "\n",
    "df=pd.read_csv('/home/arunvaish9/PycharmProjects/TensorFlow/fer2013/fer2013.csv', dtype = {'classlabel':np.float32, 'image':np.float32})\n",
    "df.columns=[\"classlabel\",\"image\",\"dataset\"]\n",
    "X,y = df.iloc[:,1:2].values,df.iloc[:,0].values\n",
    "a = pd.get_dummies(y)\n",
    "Y = np.array(a)\n",
    "X_train,X_test,Y_train,Y_test = train_test_split(X,Y,test_size=0.3,random_state=0)\n"
   ]
  },
  {
   "cell_type": "code",
   "execution_count": 4,
   "metadata": {},
   "outputs": [
    {
     "name": "stdout",
     "output_type": "stream",
     "text": [
      "Variable           Type         Data/Info\n",
      "-----------------------------------------\n",
      "X                  ndarray      35887x1: 35887 elems, type `object`, 287096 bytes (280 kb)\n",
      "X_test             ndarray      10767x1: 10767 elems, type `object`, 86136 bytes\n",
      "X_train            ndarray      25120x1: 25120 elems, type `object`, 200960 bytes (196 kb)\n",
      "Y                  ndarray      35887x7: 251209 elems, type `uint8`, 251209 bytes (245 kb)\n",
      "Y_test             ndarray      10767x7: 75369 elems, type `uint8`, 75369 bytes\n",
      "Y_train            ndarray      25120x7: 175840 elems, type `uint8`, 175840 bytes (171 kb)\n",
      "a                  DataFrame           0  1  2  3  4  5  <...>n[35887 rows x 7 columns]\n",
      "df                 DataFrame           classlabel        <...>n[35887 rows x 3 columns]\n",
      "mnist              module       <module 'tflearn.datasets<...>earn/datasets/mnist.pyc'>\n",
      "np                 module       <module 'numpy' from '/ho<...>ages/numpy/__init__.pyc'>\n",
      "pd                 module       <module 'pandas' from '/h<...>ges/pandas/__init__.pyc'>\n",
      "test_x             ndarray      10000x784: 7840000 elems, type `float32`, 31360000 bytes (29 Mb)\n",
      "test_y             ndarray      10000x10: 100000 elems, type `float64`, 800000 bytes (781 kb)\n",
      "train_test_split   function     <function train_test_split at 0x7fb6ff0a88c0>\n",
      "y                  ndarray      35887: 35887 elems, type `int64`, 287096 bytes (280 kb)\n"
     ]
    }
   ],
   "source": [
    "whos"
   ]
  },
  {
   "cell_type": "code",
   "execution_count": null,
   "metadata": {
    "collapsed": true
   },
   "outputs": [],
   "source": []
  }
 ],
 "metadata": {
  "kernelspec": {
   "display_name": "Python 2",
   "language": "python",
   "name": "python2"
  },
  "language_info": {
   "codemirror_mode": {
    "name": "ipython",
    "version": 2
   },
   "file_extension": ".py",
   "mimetype": "text/x-python",
   "name": "python",
   "nbconvert_exporter": "python",
   "pygments_lexer": "ipython2",
   "version": "2.7.12"
  }
 },
 "nbformat": 4,
 "nbformat_minor": 2
}
